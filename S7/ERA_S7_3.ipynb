{
  "nbformat": 4,
  "nbformat_minor": 0,
  "metadata": {
    "colab": {
      "provenance": [],
      "gpuType": "T4",
      "include_colab_link": true
    },
    "kernelspec": {
      "name": "python3",
      "display_name": "Python 3"
    },
    "accelerator": "GPU"
  },
  "cells": [
    {
      "cell_type": "markdown",
      "metadata": {
        "id": "view-in-github",
        "colab_type": "text"
      },
      "source": [
        "<a href=\"https://colab.research.google.com/github/peeyushsinghal/ERA/blob/main/S7/ERA_S7_3.ipynb\" target=\"_parent\"><img src=\"https://colab.research.google.com/assets/colab-badge.svg\" alt=\"Open In Colab\"/></a>"
      ]
    },
    {
      "cell_type": "code",
      "metadata": {
        "id": "0m2JWFliFfKT"
      },
      "source": [
        "from __future__ import print_function\n",
        "import torch\n",
        "import torch.nn as nn\n",
        "import torch.nn.functional as F\n",
        "import torch.optim as optim\n",
        "from torchvision import datasets, transforms\n",
        "\n"
      ],
      "execution_count": 3,
      "outputs": []
    },
    {
      "cell_type": "code",
      "metadata": {
        "id": "h_Cx9q2QFgM7"
      },
      "source": [
        "class Net(nn.Module):\n",
        "    def __init__(self):\n",
        "        super(Net, self).__init__()\n",
        "\n",
        "        dropout_value = 0.1\n",
        "        # Attempt S7 2---------------Further reduce capacity and see impact, remove capacity from early layers\n",
        "        # Conv Block 1\n",
        "        self.convblock1 = nn.Sequential(\n",
        "            nn.Conv2d(1, 8, 5, stride= 1, padding=1), #input -28 OUtput-26 RF 5\n",
        "            nn.ReLU(),\n",
        "            nn.BatchNorm2d(8),\n",
        "            nn.Dropout(dropout_value),\n",
        "            nn.Conv2d(8, 16, 3, stride= 1, padding=1), #input -26 OUtput-26 RF 7, Jump_in -1, Jump_out -1\n",
        "            nn.ReLU(),\n",
        "            nn.BatchNorm2d(16),\n",
        "            nn.Dropout(dropout_value)\n",
        "        )\n",
        "\n",
        "        # Transition Block 1\n",
        "        # STRIDED CONVOLUTION LAYER\n",
        "        self.transitionblock1 = nn.Sequential(\n",
        "            nn.Conv2d(16,8,3,stride=2,padding=1), # In- 26, Out- 13, RF-9 , Jump_in -1, Jump_out -2\n",
        "            nn.ReLU(),\n",
        "            nn.BatchNorm2d(8),\n",
        "            nn.Dropout(dropout_value)\n",
        "        )\n",
        "\n",
        "        # Conv Block 2\n",
        "        self.convblock2 = nn.Sequential(\n",
        "            nn.Conv2d(8, 8, 3, stride= 1, padding=1), #input -13  OUtput-13  RF 13, Jump_in -2, Jump_out -2\n",
        "            nn.ReLU(),\n",
        "            nn.BatchNorm2d(8),\n",
        "            nn.Dropout(dropout_value),\n",
        "            nn.Conv2d(8, 16, 3, stride= 1, padding=1), #input -13  OUtput-13  RF 17, Jump_in -2, Jump_out -2\n",
        "            nn.ReLU(),\n",
        "            nn.BatchNorm2d(16),\n",
        "            nn.Dropout(dropout_value)\n",
        "        )\n",
        "\n",
        "        # Transition Block 2\n",
        "        # STRIDED CONVOLUTION LAYER\n",
        "        self.transitionblock2 = nn.Sequential(\n",
        "            nn.Conv2d(16,16,3,stride=2,padding=1), # In- 13, Out-7, RF- 21 , Jump_in - 2, Jump_out - 4\n",
        "            nn.ReLU(),\n",
        "            nn.BatchNorm2d(16),\n",
        "            nn.Dropout(dropout_value)\n",
        "        )\n",
        "\n",
        "        # Conv Block 3\n",
        "        self.convblock3 = nn.Sequential(\n",
        "            nn.Conv2d(16, 10, 3, stride= 1), #input -7  OUtput-5  RF - 29, Jump_in -4, Jump_out -4\n",
        "        )\n",
        "        self.gap = nn.AvgPool2d(5) # input - 10x5x5 Output -10x1x1\n",
        "\n",
        "\n",
        "        # # Attempt S7 1---------------Reduce the channel number throughout : Reduce capacity of model by reducing the number of channels\n",
        "        # # Conv Block 1\n",
        "        # self.convblock1 = nn.Sequential(\n",
        "        #     nn.Conv2d(1, 16, 5, stride= 1, padding=1), #input -28 OUtput-26 RF 5\n",
        "        #     nn.ReLU(),\n",
        "        #     nn.BatchNorm2d(16),\n",
        "        #     nn.Dropout(dropout_value),\n",
        "        #     nn.Conv2d(16, 16, 3, stride= 1, padding=1), #input -26 OUtput-26 RF 7, Jump_in -1, Jump_out -1\n",
        "        #     nn.ReLU(),\n",
        "        #     nn.BatchNorm2d(16),\n",
        "        #     nn.Dropout(dropout_value)\n",
        "        # )\n",
        "\n",
        "        # # Transition Block 1\n",
        "        # # STRIDED CONVOLUTION LAYER\n",
        "        # self.transitionblock1 = nn.Sequential(\n",
        "        #     nn.Conv2d(16,16,3,stride=2,padding=1), # In- 26, Out- 13, RF-9 , Jump_in -1, Jump_out -2\n",
        "        #     nn.ReLU(),\n",
        "        #     nn.BatchNorm2d(16),\n",
        "        #     nn.Dropout(dropout_value)\n",
        "        # )\n",
        "\n",
        "        # # Conv Block 2\n",
        "        # self.convblock2 = nn.Sequential(\n",
        "        #     nn.Conv2d(16, 16, 3, stride= 1, padding=1), #input -13  OUtput-13  RF 13, Jump_in -2, Jump_out -2\n",
        "        #     nn.ReLU(),\n",
        "        #     nn.BatchNorm2d(16),\n",
        "        #     nn.Dropout(dropout_value),\n",
        "        #     nn.Conv2d(16, 16, 3, stride= 1, padding=1), #input -13  OUtput-13  RF 17, Jump_in -2, Jump_out -2\n",
        "        #     nn.ReLU(),\n",
        "        #     nn.BatchNorm2d(16),\n",
        "        #     nn.Dropout(dropout_value)\n",
        "        # )\n",
        "\n",
        "        # # Transition Block 2\n",
        "        # # STRIDED CONVOLUTION LAYER\n",
        "        # self.transitionblock2 = nn.Sequential(\n",
        "        #     nn.Conv2d(16,16,3,stride=2,padding=1), # In- 13, Out-7, RF- 21 , Jump_in - 2, Jump_out - 4\n",
        "        #     nn.ReLU(),\n",
        "        #     nn.BatchNorm2d(16),\n",
        "        #     nn.Dropout(dropout_value)\n",
        "        # )\n",
        "\n",
        "        # # Conv Block 3\n",
        "        # self.convblock3 = nn.Sequential(\n",
        "        #     nn.Conv2d(16, 10, 3, stride= 1), #input -7  OUtput-5  RF - 29, Jump_in -4, Jump_out -4\n",
        "        # )\n",
        "        # self.gap = nn.AvgPool2d(5) # input - 10x5x5 Output -10x1x1\n",
        "        # # Attempt 2 ---------------\n",
        "        # # Conv Block 1\n",
        "        # self.convblock1 = nn.Sequential(\n",
        "        #     nn.Conv2d(1, 32, 5, stride= 1, padding=1), #input -28 OUtput-26 RF 5\n",
        "        #     nn.ReLU(),\n",
        "        #     nn.BatchNorm2d(32),\n",
        "        #     nn.Dropout(dropout_value),\n",
        "        #     nn.Conv2d(32, 16, 3, stride= 1, padding=1), #input -26 OUtput-26 RF 7, Jump_in -1, Jump_out -1\n",
        "        #     nn.ReLU(),\n",
        "        #     nn.BatchNorm2d(16),\n",
        "        #     nn.Dropout(dropout_value)\n",
        "        # )\n",
        "\n",
        "        # # Transition Block 1\n",
        "        # # STRIDED CONVOLUTION LAYER\n",
        "        # self.transitionblock1 = nn.Sequential(\n",
        "        #     nn.Conv2d(16,16,3,stride=2,padding=1), # In- 26, Out- 13, RF-9 , Jump_in -1, Jump_out -2\n",
        "        #     nn.ReLU(),\n",
        "        #     nn.BatchNorm2d(16),\n",
        "        #     nn.Dropout(dropout_value)\n",
        "        # )\n",
        "\n",
        "        # # Conv Block 2\n",
        "        # self.convblock2 = nn.Sequential(\n",
        "        #     nn.Conv2d(16, 24, 3, stride= 1, padding=1), #input -13  OUtput-13  RF 13, Jump_in -2, Jump_out -2\n",
        "        #     nn.ReLU(),\n",
        "        #     nn.BatchNorm2d(24),\n",
        "        #     nn.Dropout(dropout_value),\n",
        "        #     nn.Conv2d(24, 16, 3, stride= 1, padding=1), #input -13  OUtput-13  RF 17, Jump_in -2, Jump_out -2\n",
        "        #     nn.ReLU(),\n",
        "        #     nn.BatchNorm2d(16),\n",
        "        #     nn.Dropout(dropout_value)\n",
        "        # )\n",
        "\n",
        "        # # Transition Block 2\n",
        "        # # STRIDED CONVOLUTION LAYER\n",
        "        # self.transitionblock2 = nn.Sequential(\n",
        "        #     nn.Conv2d(16,16,3,stride=2,padding=1), # In- 13, Out-7, RF- 21 , Jump_in - 2, Jump_out - 4\n",
        "        #     nn.ReLU(),\n",
        "        #     nn.BatchNorm2d(16),\n",
        "        #     nn.Dropout(dropout_value)\n",
        "        # )\n",
        "\n",
        "        # # Conv Block 3\n",
        "        # self.convblock3 = nn.Sequential(\n",
        "        #     nn.Conv2d(16, 10, 3, stride= 1), #input -7  OUtput-5  RF - 29, Jump_in -4, Jump_out -4\n",
        "        # )\n",
        "        # self.gap = nn.AvgPool2d(5) # input - 10x5x5 Output -10x1x1\n",
        "\n",
        "\n",
        "        # Attempt 1-----------------------------\n",
        "        # self.conv1 = nn.Conv2d(1, 32, 5, stride= 1, padding=1) #input -28 OUtput-26 RF 5\n",
        "        # self.bn1 = nn.BatchNorm2d(32)\n",
        "        # self.conv2 = nn.Conv2d(32, 16, 3, stride= 1, padding=1)#input -26 OUtput-26 RF 7\n",
        "        # self.bn2 = nn.BatchNorm2d(16)\n",
        "\n",
        "        # self.pool1 = nn.MaxPool2d(2, 2) #input -26 OUtput-13 RF 14\n",
        "        # self.dropout1= nn.Dropout(0.1)\n",
        "\n",
        "        # self.conv3 = nn.Conv2d(16, 32, 3, stride= 1, padding=1) #input -13 OUtput-13 RF 16\n",
        "        # self.bn3 = nn.BatchNorm2d(32)\n",
        "        # self.conv4 = nn.Conv2d( 32, 32, 3, stride= 1, padding=1)#input -13 OUtput-13 RF 18\n",
        "        # self.bn4 = nn.BatchNorm2d(32)\n",
        "\n",
        "        # self.pool2 = nn.MaxPool2d(2, 2) #input -13 OUtput-6 RF 36\n",
        "        # self.dropout2 = nn.Dropout(0.1)\n",
        "\n",
        "        # self.conv5 = nn.Conv2d(32, 10, 1, stride= 1) # use of 1x1 - input 6 output 6 RF 36\n",
        "        # self.gap = nn.AvgPool2d(6) # input - 10x5x5 Output -10x1x1\n",
        "\n",
        "\n",
        "        # Base attempt-----------------\n",
        "        # self.conv1 = nn.Conv2d(1, 32, 3, padding=1) #input - 28 Output - 28  RF - 3, Jin -1 , Jout -1\n",
        "        # self.conv2 = nn.Conv2d(32, 64, 3, padding=1) #input - 28 Output - 28  RF - 5, Jin -1 , Jout -1\n",
        "        # self.pool1 = nn.MaxPool2d(2, 2) #input - 28 Output - 14, RF - 6, Jin -1 , Jout -2\n",
        "        # self.conv3 = nn.Conv2d(64, 128, 3, padding=1) #input - 14 Output - 14, RF - 10, Jin - 2 , Jout -2\n",
        "        # self.conv4 = nn.Conv2d(128, 256, 3, padding=1)  #input - 14 Output - 14, RF - 14, Jin - 2 , Jout -2\n",
        "        # self.pool2 = nn.MaxPool2d(2, 2) #input - 14 Output - 7, RF - 16, Jin - 2 , Jout - 4\n",
        "        # self.conv5 = nn.Conv2d(256, 512, 3) #input - 7 Output - 5, RF - 24, Jin - 4 , Jout - 4\n",
        "        # self.conv6 = nn.Conv2d(512, 1024, 3) #input - 5 Output - 3, RF - 32, Jin - 4 , Jout - 4\n",
        "        # self.conv7 = nn.Conv2d(1024, 10, 3) #input - 3 Output - 2, RF - 40, Jin - 4 , Jout - 4\n",
        "\n",
        "\n",
        "\n",
        "\n",
        "    def forward(self, x):\n",
        "\n",
        "      # Attempt 2 ---------------\n",
        "      x = self.convblock1(x)\n",
        "      x = self.transitionblock1(x)\n",
        "      x = self.convblock2(x)\n",
        "      x = self.transitionblock2(x)\n",
        "      x = self.convblock3(x)\n",
        "      x = self.gap(x)\n",
        "      x = x.view(-1, 10)\n",
        "      return F.log_softmax(x, dim = -1)\n",
        "\n",
        "        # Attempt 1-------------------\n",
        "        # x = F.relu(self.bn1(self.conv1(x)))\n",
        "        # x = F.relu(self.bn2(self.conv2(x)))\n",
        "        # x = self.dropout1(self.pool1(x))\n",
        "\n",
        "        # x = F.relu(self.bn3(self.conv3(x)))\n",
        "        # # print(\"after. bn 3\", x.shape)\n",
        "        # x = F.relu(self.bn4(self.conv4(x)))\n",
        "        # # print(\"after. bn 4\", x.shape)\n",
        "        # x = self.dropout2(self.pool2(x))\n",
        "        # # print(x.shape)\n",
        "\n",
        "        # x = self.conv5(x)\n",
        "        # # print(x.shape)\n",
        "        # x = self.gap(x)\n",
        "        # x = x.view(-1, 10)\n",
        "        # return F.log_softmax(x)\n",
        "\n",
        "        # base attempt------------------\n",
        "        # x = self.pool1(F.relu(self.conv2(F.relu(self.conv1(x)))))\n",
        "        # x = self.pool2(F.relu(self.conv4(F.relu(self.conv3(x)))))\n",
        "        # x = F.relu(self.conv6(F.relu(self.conv5(x))))\n",
        "        # x = F.relu(self.conv7(x))\n",
        "        # x = x.view(-1, 10)\n",
        "        # return F.log_softmax(x)"
      ],
      "execution_count": 2,
      "outputs": []
    },
    {
      "cell_type": "code",
      "source": [
        "use_cuda = torch.cuda.is_available()\n",
        "device = torch.device(\"cuda\" if use_cuda else \"cpu\")\n",
        "model = Net().to(device)\n",
        "model"
      ],
      "metadata": {
        "colab": {
          "base_uri": "https://localhost:8080/"
        },
        "id": "4GF7X6-9r8dF",
        "outputId": "4cb9fc2c-7afc-40e0-8f20-5baa13460036"
      },
      "execution_count": 3,
      "outputs": [
        {
          "output_type": "execute_result",
          "data": {
            "text/plain": [
              "Net(\n",
              "  (convblock1): Sequential(\n",
              "    (0): Conv2d(1, 8, kernel_size=(5, 5), stride=(1, 1), padding=(1, 1))\n",
              "    (1): ReLU()\n",
              "    (2): BatchNorm2d(8, eps=1e-05, momentum=0.1, affine=True, track_running_stats=True)\n",
              "    (3): Dropout(p=0.1, inplace=False)\n",
              "    (4): Conv2d(8, 16, kernel_size=(3, 3), stride=(1, 1), padding=(1, 1))\n",
              "    (5): ReLU()\n",
              "    (6): BatchNorm2d(16, eps=1e-05, momentum=0.1, affine=True, track_running_stats=True)\n",
              "    (7): Dropout(p=0.1, inplace=False)\n",
              "  )\n",
              "  (transitionblock1): Sequential(\n",
              "    (0): Conv2d(16, 8, kernel_size=(3, 3), stride=(2, 2), padding=(1, 1))\n",
              "    (1): ReLU()\n",
              "    (2): BatchNorm2d(8, eps=1e-05, momentum=0.1, affine=True, track_running_stats=True)\n",
              "    (3): Dropout(p=0.1, inplace=False)\n",
              "  )\n",
              "  (convblock2): Sequential(\n",
              "    (0): Conv2d(8, 8, kernel_size=(3, 3), stride=(1, 1), padding=(1, 1))\n",
              "    (1): ReLU()\n",
              "    (2): BatchNorm2d(8, eps=1e-05, momentum=0.1, affine=True, track_running_stats=True)\n",
              "    (3): Dropout(p=0.1, inplace=False)\n",
              "    (4): Conv2d(8, 16, kernel_size=(3, 3), stride=(1, 1), padding=(1, 1))\n",
              "    (5): ReLU()\n",
              "    (6): BatchNorm2d(16, eps=1e-05, momentum=0.1, affine=True, track_running_stats=True)\n",
              "    (7): Dropout(p=0.1, inplace=False)\n",
              "  )\n",
              "  (transitionblock2): Sequential(\n",
              "    (0): Conv2d(16, 16, kernel_size=(3, 3), stride=(2, 2), padding=(1, 1))\n",
              "    (1): ReLU()\n",
              "    (2): BatchNorm2d(16, eps=1e-05, momentum=0.1, affine=True, track_running_stats=True)\n",
              "    (3): Dropout(p=0.1, inplace=False)\n",
              "  )\n",
              "  (convblock3): Sequential(\n",
              "    (0): Conv2d(16, 10, kernel_size=(3, 3), stride=(1, 1))\n",
              "  )\n",
              "  (gap): AvgPool2d(kernel_size=5, stride=5, padding=0)\n",
              ")"
            ]
          },
          "metadata": {},
          "execution_count": 3
        }
      ]
    },
    {
      "cell_type": "code",
      "metadata": {
        "id": "DqTWLaM5GHgH",
        "colab": {
          "base_uri": "https://localhost:8080/"
        },
        "outputId": "39efaefc-3837-41b7-ef07-f28e49c62c8c"
      },
      "source": [
        "\n",
        "\n",
        "torch.manual_seed(1)\n",
        "batch_size = 128\n",
        "\n",
        "\n",
        "\n",
        "kwargs = {'num_workers': 1, 'pin_memory': True} if use_cuda else {}\n",
        "\n",
        "\n",
        "\n",
        "train_loader = torch.utils.data.DataLoader(\n",
        "    datasets.MNIST('../data', train=True, download=True,\n",
        "                    transform=transforms.Compose([\n",
        "                        transforms.RandomRotation((-10.0, 10.0), fill=(1,)),\n",
        "                        transforms.ToTensor(),\n",
        "                        transforms.Normalize((0.1307,), (0.3081,))\n",
        "                    ])),\n",
        "    batch_size=batch_size, shuffle=True, **kwargs)\n",
        "test_loader = torch.utils.data.DataLoader(\n",
        "    datasets.MNIST('../data', train=False, transform=transforms.Compose([\n",
        "                        transforms.ToTensor(),\n",
        "                        transforms.Normalize((0.1307,), (0.3081,))\n",
        "                    ])),\n",
        "    batch_size=batch_size, shuffle=True, **kwargs)\n"
      ],
      "execution_count": 4,
      "outputs": [
        {
          "output_type": "stream",
          "name": "stdout",
          "text": [
            "Downloading http://yann.lecun.com/exdb/mnist/train-images-idx3-ubyte.gz\n",
            "Downloading http://yann.lecun.com/exdb/mnist/train-images-idx3-ubyte.gz to ../data/MNIST/raw/train-images-idx3-ubyte.gz\n"
          ]
        },
        {
          "output_type": "stream",
          "name": "stderr",
          "text": [
            "100%|██████████| 9912422/9912422 [00:00<00:00, 285959909.51it/s]"
          ]
        },
        {
          "output_type": "stream",
          "name": "stdout",
          "text": [
            "Extracting ../data/MNIST/raw/train-images-idx3-ubyte.gz to ../data/MNIST/raw\n"
          ]
        },
        {
          "output_type": "stream",
          "name": "stderr",
          "text": [
            "\n"
          ]
        },
        {
          "output_type": "stream",
          "name": "stdout",
          "text": [
            "\n",
            "Downloading http://yann.lecun.com/exdb/mnist/train-labels-idx1-ubyte.gz\n",
            "Downloading http://yann.lecun.com/exdb/mnist/train-labels-idx1-ubyte.gz to ../data/MNIST/raw/train-labels-idx1-ubyte.gz\n"
          ]
        },
        {
          "output_type": "stream",
          "name": "stderr",
          "text": [
            "100%|██████████| 28881/28881 [00:00<00:00, 9302387.79it/s]\n"
          ]
        },
        {
          "output_type": "stream",
          "name": "stdout",
          "text": [
            "Extracting ../data/MNIST/raw/train-labels-idx1-ubyte.gz to ../data/MNIST/raw\n",
            "\n",
            "Downloading http://yann.lecun.com/exdb/mnist/t10k-images-idx3-ubyte.gz\n",
            "Downloading http://yann.lecun.com/exdb/mnist/t10k-images-idx3-ubyte.gz to ../data/MNIST/raw/t10k-images-idx3-ubyte.gz\n"
          ]
        },
        {
          "output_type": "stream",
          "name": "stderr",
          "text": [
            "100%|██████████| 1648877/1648877 [00:00<00:00, 120307756.75it/s]"
          ]
        },
        {
          "output_type": "stream",
          "name": "stdout",
          "text": [
            "Extracting ../data/MNIST/raw/t10k-images-idx3-ubyte.gz to ../data/MNIST/raw\n"
          ]
        },
        {
          "output_type": "stream",
          "name": "stderr",
          "text": [
            "\n"
          ]
        },
        {
          "output_type": "stream",
          "name": "stdout",
          "text": [
            "\n",
            "Downloading http://yann.lecun.com/exdb/mnist/t10k-labels-idx1-ubyte.gz\n",
            "Downloading http://yann.lecun.com/exdb/mnist/t10k-labels-idx1-ubyte.gz to ../data/MNIST/raw/t10k-labels-idx1-ubyte.gz\n"
          ]
        },
        {
          "output_type": "stream",
          "name": "stderr",
          "text": [
            "100%|██████████| 4542/4542 [00:00<00:00, 22229321.78it/s]\n"
          ]
        },
        {
          "output_type": "stream",
          "name": "stdout",
          "text": [
            "Extracting ../data/MNIST/raw/t10k-labels-idx1-ubyte.gz to ../data/MNIST/raw\n",
            "\n"
          ]
        }
      ]
    },
    {
      "cell_type": "code",
      "source": [
        "next(iter(test_loader))[0].shape"
      ],
      "metadata": {
        "colab": {
          "base_uri": "https://localhost:8080/"
        },
        "id": "nJK4MGh54gHq",
        "outputId": "ee77556d-e358-4122-d4c2-b57833985963"
      },
      "execution_count": 5,
      "outputs": [
        {
          "output_type": "execute_result",
          "data": {
            "text/plain": [
              "torch.Size([128, 1, 28, 28])"
            ]
          },
          "metadata": {},
          "execution_count": 5
        }
      ]
    },
    {
      "cell_type": "code",
      "metadata": {
        "id": "8fDefDhaFlwH"
      },
      "source": [
        "from tqdm import tqdm\n",
        "\n",
        "def train(model, device, train_loader, optimizer, epoch):\n",
        "  model.train()\n",
        "  pbar = tqdm(train_loader)\n",
        "  correct = 0\n",
        "  processed = 0\n",
        "  for batch_idx, (data, target) in enumerate(pbar):\n",
        "    # get samples\n",
        "    data, target = data.to(device), target.to(device)\n",
        "\n",
        "    # Init\n",
        "    optimizer.zero_grad()\n",
        "    # In PyTorch, we need to set the gradients to zero before starting to do backpropragation because PyTorch accumulates the gradients on subsequent backward passes.\n",
        "    # Because of this, when you start your training loop, ideally you should zero out the gradients so that you do the parameter update correctly.\n",
        "\n",
        "    # Predict\n",
        "    y_pred = model(data)\n",
        "\n",
        "    # Calculate loss\n",
        "    loss = F.nll_loss(y_pred, target)\n",
        "    train_losses.append(loss)\n",
        "\n",
        "    # Backpropagation\n",
        "    loss.backward()\n",
        "    optimizer.step()\n",
        "\n",
        "    # Update pbar-tqdm\n",
        "\n",
        "    pred = y_pred.argmax(dim=1, keepdim=True)  # get the index of the max log-probability\n",
        "    correct += pred.eq(target.view_as(pred)).sum().item()\n",
        "    processed += len(data)\n",
        "\n",
        "    pbar.set_description(desc= f'Loss={loss.item()} Batch_id={batch_idx} Accuracy={100*correct/processed:0.2f}')\n",
        "    train_acc.append(100*correct/processed)\n",
        "\n",
        "def test(model, device, test_loader):\n",
        "    model.eval()\n",
        "    test_loss = 0\n",
        "    correct = 0\n",
        "    with torch.no_grad():\n",
        "        for data, target in test_loader:\n",
        "            data, target = data.to(device), target.to(device)\n",
        "            output = model(data)\n",
        "            test_loss += F.nll_loss(output, target, reduction='sum').item()  # sum up batch loss\n",
        "            pred = output.argmax(dim=1, keepdim=True)  # get the index of the max log-probability\n",
        "            correct += pred.eq(target.view_as(pred)).sum().item()\n",
        "\n",
        "    test_loss /= len(test_loader.dataset)\n",
        "    test_losses.append(test_loss)\n",
        "\n",
        "    print('\\nTest set: Average loss: {:.4f}, Accuracy: {}/{} ({:.2f}%)\\n'.format(\n",
        "        test_loss, correct, len(test_loader.dataset),\n",
        "        100. * correct / len(test_loader.dataset)))\n",
        "\n",
        "    test_acc.append(100. * correct / len(test_loader.dataset))"
      ],
      "execution_count": 6,
      "outputs": []
    },
    {
      "cell_type": "code",
      "source": [
        "!pip install torchsummary\n",
        "from torchsummary import summary\n",
        "use_cuda = torch.cuda.is_available()\n",
        "device = torch.device(\"cuda\" if use_cuda else \"cpu\")\n",
        "model = Net().to(device)\n",
        "summary(model, input_size=(1, 28, 28))"
      ],
      "metadata": {
        "colab": {
          "base_uri": "https://localhost:8080/"
        },
        "id": "cvY4pS50dQp6",
        "outputId": "c724ec0b-df4c-4c2a-ca02-64513cff6574"
      },
      "execution_count": 7,
      "outputs": [
        {
          "output_type": "stream",
          "name": "stdout",
          "text": [
            "Looking in indexes: https://pypi.org/simple, https://us-python.pkg.dev/colab-wheels/public/simple/\n",
            "Requirement already satisfied: torchsummary in /usr/local/lib/python3.10/dist-packages (1.5.1)\n",
            "----------------------------------------------------------------\n",
            "        Layer (type)               Output Shape         Param #\n",
            "================================================================\n",
            "            Conv2d-1            [-1, 8, 26, 26]             208\n",
            "              ReLU-2            [-1, 8, 26, 26]               0\n",
            "       BatchNorm2d-3            [-1, 8, 26, 26]              16\n",
            "           Dropout-4            [-1, 8, 26, 26]               0\n",
            "            Conv2d-5           [-1, 16, 26, 26]           1,168\n",
            "              ReLU-6           [-1, 16, 26, 26]               0\n",
            "       BatchNorm2d-7           [-1, 16, 26, 26]              32\n",
            "           Dropout-8           [-1, 16, 26, 26]               0\n",
            "            Conv2d-9            [-1, 8, 13, 13]           1,160\n",
            "             ReLU-10            [-1, 8, 13, 13]               0\n",
            "      BatchNorm2d-11            [-1, 8, 13, 13]              16\n",
            "          Dropout-12            [-1, 8, 13, 13]               0\n",
            "           Conv2d-13            [-1, 8, 13, 13]             584\n",
            "             ReLU-14            [-1, 8, 13, 13]               0\n",
            "      BatchNorm2d-15            [-1, 8, 13, 13]              16\n",
            "          Dropout-16            [-1, 8, 13, 13]               0\n",
            "           Conv2d-17           [-1, 16, 13, 13]           1,168\n",
            "             ReLU-18           [-1, 16, 13, 13]               0\n",
            "      BatchNorm2d-19           [-1, 16, 13, 13]              32\n",
            "          Dropout-20           [-1, 16, 13, 13]               0\n",
            "           Conv2d-21             [-1, 16, 7, 7]           2,320\n",
            "             ReLU-22             [-1, 16, 7, 7]               0\n",
            "      BatchNorm2d-23             [-1, 16, 7, 7]              32\n",
            "          Dropout-24             [-1, 16, 7, 7]               0\n",
            "           Conv2d-25             [-1, 10, 5, 5]           1,450\n",
            "        AvgPool2d-26             [-1, 10, 1, 1]               0\n",
            "================================================================\n",
            "Total params: 8,202\n",
            "Trainable params: 8,202\n",
            "Non-trainable params: 0\n",
            "----------------------------------------------------------------\n",
            "Input size (MB): 0.00\n",
            "Forward/backward pass size (MB): 0.69\n",
            "Params size (MB): 0.03\n",
            "Estimated Total Size (MB): 0.72\n",
            "----------------------------------------------------------------\n"
          ]
        }
      ]
    },
    {
      "cell_type": "code",
      "metadata": {
        "id": "MMWbLWO6FuHb",
        "colab": {
          "base_uri": "https://localhost:8080/"
        },
        "outputId": "4f951c94-2536-42c4-8e71-46dd10536e8a"
      },
      "source": [
        "\n",
        "train_losses = []\n",
        "test_losses = []\n",
        "train_acc = []\n",
        "test_acc = []\n",
        "\n",
        "use_cuda = torch.cuda.is_available()\n",
        "device = torch.device(\"cuda\" if use_cuda else \"cpu\")\n",
        "model = Net().to(device)\n",
        "optimizer = optim.SGD(model.parameters(), lr=0.01, momentum=0.9)\n",
        "EPOCHS = 15\n",
        "for epoch in range(1, EPOCHS+1):\n",
        "  print(\"EPOCH: \", epoch)\n",
        "  train(model, device, train_loader, optimizer, epoch)\n",
        "  test(model, device, test_loader)"
      ],
      "execution_count": 8,
      "outputs": [
        {
          "output_type": "stream",
          "name": "stdout",
          "text": [
            "EPOCH:  1\n"
          ]
        },
        {
          "output_type": "stream",
          "name": "stderr",
          "text": [
            "Loss=0.17998136579990387 Batch_id=468 Accuracy=81.77: 100%|██████████| 469/469 [00:28<00:00, 16.69it/s]\n"
          ]
        },
        {
          "output_type": "stream",
          "name": "stdout",
          "text": [
            "\n",
            "Test set: Average loss: 0.1066, Accuracy: 9691/10000 (96.91%)\n",
            "\n",
            "EPOCH:  2\n"
          ]
        },
        {
          "output_type": "stream",
          "name": "stderr",
          "text": [
            "Loss=0.24679578840732574 Batch_id=468 Accuracy=96.03: 100%|██████████| 469/469 [00:24<00:00, 19.41it/s]\n"
          ]
        },
        {
          "output_type": "stream",
          "name": "stdout",
          "text": [
            "\n",
            "Test set: Average loss: 0.0673, Accuracy: 9783/10000 (97.83%)\n",
            "\n",
            "EPOCH:  3\n"
          ]
        },
        {
          "output_type": "stream",
          "name": "stderr",
          "text": [
            "Loss=0.07339576631784439 Batch_id=468 Accuracy=96.90: 100%|██████████| 469/469 [00:24<00:00, 19.41it/s]\n"
          ]
        },
        {
          "output_type": "stream",
          "name": "stdout",
          "text": [
            "\n",
            "Test set: Average loss: 0.0539, Accuracy: 9836/10000 (98.36%)\n",
            "\n",
            "EPOCH:  4\n"
          ]
        },
        {
          "output_type": "stream",
          "name": "stderr",
          "text": [
            "Loss=0.053709547966718674 Batch_id=468 Accuracy=97.42: 100%|██████████| 469/469 [00:24<00:00, 19.38it/s]\n"
          ]
        },
        {
          "output_type": "stream",
          "name": "stdout",
          "text": [
            "\n",
            "Test set: Average loss: 0.0457, Accuracy: 9854/10000 (98.54%)\n",
            "\n",
            "EPOCH:  5\n"
          ]
        },
        {
          "output_type": "stream",
          "name": "stderr",
          "text": [
            "Loss=0.04369359835982323 Batch_id=468 Accuracy=97.58: 100%|██████████| 469/469 [00:24<00:00, 18.82it/s]\n"
          ]
        },
        {
          "output_type": "stream",
          "name": "stdout",
          "text": [
            "\n",
            "Test set: Average loss: 0.0461, Accuracy: 9836/10000 (98.36%)\n",
            "\n",
            "EPOCH:  6\n"
          ]
        },
        {
          "output_type": "stream",
          "name": "stderr",
          "text": [
            "Loss=0.025076506659388542 Batch_id=468 Accuracy=97.76: 100%|██████████| 469/469 [00:25<00:00, 18.58it/s]\n"
          ]
        },
        {
          "output_type": "stream",
          "name": "stdout",
          "text": [
            "\n",
            "Test set: Average loss: 0.0349, Accuracy: 9891/10000 (98.91%)\n",
            "\n",
            "EPOCH:  7\n"
          ]
        },
        {
          "output_type": "stream",
          "name": "stderr",
          "text": [
            "Loss=0.15627071261405945 Batch_id=468 Accuracy=97.82: 100%|██████████| 469/469 [00:24<00:00, 18.96it/s]\n"
          ]
        },
        {
          "output_type": "stream",
          "name": "stdout",
          "text": [
            "\n",
            "Test set: Average loss: 0.0451, Accuracy: 9844/10000 (98.44%)\n",
            "\n",
            "EPOCH:  8\n"
          ]
        },
        {
          "output_type": "stream",
          "name": "stderr",
          "text": [
            "Loss=0.06255677342414856 Batch_id=468 Accuracy=98.06: 100%|██████████| 469/469 [00:24<00:00, 19.04it/s]\n"
          ]
        },
        {
          "output_type": "stream",
          "name": "stdout",
          "text": [
            "\n",
            "Test set: Average loss: 0.0384, Accuracy: 9872/10000 (98.72%)\n",
            "\n",
            "EPOCH:  9\n"
          ]
        },
        {
          "output_type": "stream",
          "name": "stderr",
          "text": [
            "Loss=0.0784931480884552 Batch_id=468 Accuracy=98.03: 100%|██████████| 469/469 [00:25<00:00, 18.62it/s]\n"
          ]
        },
        {
          "output_type": "stream",
          "name": "stdout",
          "text": [
            "\n",
            "Test set: Average loss: 0.0328, Accuracy: 9894/10000 (98.94%)\n",
            "\n",
            "EPOCH:  10\n"
          ]
        },
        {
          "output_type": "stream",
          "name": "stderr",
          "text": [
            "Loss=0.04321609437465668 Batch_id=468 Accuracy=98.10: 100%|██████████| 469/469 [00:23<00:00, 19.63it/s]\n"
          ]
        },
        {
          "output_type": "stream",
          "name": "stdout",
          "text": [
            "\n",
            "Test set: Average loss: 0.0310, Accuracy: 9898/10000 (98.98%)\n",
            "\n",
            "EPOCH:  11\n"
          ]
        },
        {
          "output_type": "stream",
          "name": "stderr",
          "text": [
            "Loss=0.1327313929796219 Batch_id=468 Accuracy=98.22: 100%|██████████| 469/469 [00:24<00:00, 19.30it/s]\n"
          ]
        },
        {
          "output_type": "stream",
          "name": "stdout",
          "text": [
            "\n",
            "Test set: Average loss: 0.0352, Accuracy: 9885/10000 (98.85%)\n",
            "\n",
            "EPOCH:  12\n"
          ]
        },
        {
          "output_type": "stream",
          "name": "stderr",
          "text": [
            "Loss=0.04299899563193321 Batch_id=468 Accuracy=98.26: 100%|██████████| 469/469 [00:24<00:00, 19.18it/s]\n"
          ]
        },
        {
          "output_type": "stream",
          "name": "stdout",
          "text": [
            "\n",
            "Test set: Average loss: 0.0301, Accuracy: 9895/10000 (98.95%)\n",
            "\n",
            "EPOCH:  13\n"
          ]
        },
        {
          "output_type": "stream",
          "name": "stderr",
          "text": [
            "Loss=0.04475010931491852 Batch_id=468 Accuracy=98.39: 100%|██████████| 469/469 [00:24<00:00, 19.44it/s]\n"
          ]
        },
        {
          "output_type": "stream",
          "name": "stdout",
          "text": [
            "\n",
            "Test set: Average loss: 0.0276, Accuracy: 9906/10000 (99.06%)\n",
            "\n",
            "EPOCH:  14\n"
          ]
        },
        {
          "output_type": "stream",
          "name": "stderr",
          "text": [
            "Loss=0.03322805091738701 Batch_id=468 Accuracy=98.33: 100%|██████████| 469/469 [00:24<00:00, 19.41it/s]\n"
          ]
        },
        {
          "output_type": "stream",
          "name": "stdout",
          "text": [
            "\n",
            "Test set: Average loss: 0.0267, Accuracy: 9909/10000 (99.09%)\n",
            "\n",
            "EPOCH:  15\n"
          ]
        },
        {
          "output_type": "stream",
          "name": "stderr",
          "text": [
            "Loss=0.037671636790037155 Batch_id=468 Accuracy=98.33: 100%|██████████| 469/469 [00:25<00:00, 18.43it/s]\n"
          ]
        },
        {
          "output_type": "stream",
          "name": "stdout",
          "text": [
            "\n",
            "Test set: Average loss: 0.0275, Accuracy: 9902/10000 (99.02%)\n",
            "\n"
          ]
        }
      ]
    },
    {
      "cell_type": "code",
      "source": [],
      "metadata": {
        "id": "EQxGHd0c131e"
      },
      "execution_count": 8,
      "outputs": []
    }
  ]
}