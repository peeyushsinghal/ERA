{
  "nbformat": 4,
  "nbformat_minor": 0,
  "metadata": {
    "colab": {
      "provenance": [],
      "gpuType": "T4",
      "include_colab_link": true
    },
    "kernelspec": {
      "name": "python3",
      "display_name": "Python 3"
    },
    "accelerator": "GPU"
  },
  "cells": [
    {
      "cell_type": "markdown",
      "metadata": {
        "id": "view-in-github",
        "colab_type": "text"
      },
      "source": [
        "<a href=\"https://colab.research.google.com/github/peeyushsinghal/ERA/blob/main/S7/ERA_S7_6.ipynb\" target=\"_parent\"><img src=\"https://colab.research.google.com/assets/colab-badge.svg\" alt=\"Open In Colab\"/></a>"
      ]
    },
    {
      "cell_type": "code",
      "metadata": {
        "id": "0m2JWFliFfKT"
      },
      "source": [
        "from __future__ import print_function\n",
        "import torch\n",
        "import torch.nn as nn\n",
        "import torch.nn.functional as F\n",
        "import torch.optim as optim\n",
        "from torchvision import datasets, transforms\n",
        "\n"
      ],
      "execution_count": 1,
      "outputs": []
    },
    {
      "cell_type": "code",
      "source": [
        "!pip install -U albumentations"
      ],
      "metadata": {
        "colab": {
          "base_uri": "https://localhost:8080/"
        },
        "id": "N7UjOJqETTga",
        "outputId": "b17d1260-aa3f-4aa5-cf99-1556cdf02745"
      },
      "execution_count": 2,
      "outputs": [
        {
          "output_type": "stream",
          "name": "stdout",
          "text": [
            "Looking in indexes: https://pypi.org/simple, https://us-python.pkg.dev/colab-wheels/public/simple/\n",
            "Requirement already satisfied: albumentations in /usr/local/lib/python3.10/dist-packages (1.3.1)\n",
            "Requirement already satisfied: numpy>=1.11.1 in /usr/local/lib/python3.10/dist-packages (from albumentations) (1.22.4)\n",
            "Requirement already satisfied: scipy>=1.1.0 in /usr/local/lib/python3.10/dist-packages (from albumentations) (1.10.1)\n",
            "Requirement already satisfied: scikit-image>=0.16.1 in /usr/local/lib/python3.10/dist-packages (from albumentations) (0.19.3)\n",
            "Requirement already satisfied: PyYAML in /usr/local/lib/python3.10/dist-packages (from albumentations) (6.0)\n",
            "Requirement already satisfied: qudida>=0.0.4 in /usr/local/lib/python3.10/dist-packages (from albumentations) (0.0.4)\n",
            "Requirement already satisfied: opencv-python-headless>=4.1.1 in /usr/local/lib/python3.10/dist-packages (from albumentations) (4.7.0.72)\n",
            "Requirement already satisfied: scikit-learn>=0.19.1 in /usr/local/lib/python3.10/dist-packages (from qudida>=0.0.4->albumentations) (1.2.2)\n",
            "Requirement already satisfied: typing-extensions in /usr/local/lib/python3.10/dist-packages (from qudida>=0.0.4->albumentations) (4.5.0)\n",
            "Requirement already satisfied: networkx>=2.2 in /usr/local/lib/python3.10/dist-packages (from scikit-image>=0.16.1->albumentations) (3.1)\n",
            "Requirement already satisfied: pillow!=7.1.0,!=7.1.1,!=8.3.0,>=6.1.0 in /usr/local/lib/python3.10/dist-packages (from scikit-image>=0.16.1->albumentations) (8.4.0)\n",
            "Requirement already satisfied: imageio>=2.4.1 in /usr/local/lib/python3.10/dist-packages (from scikit-image>=0.16.1->albumentations) (2.25.1)\n",
            "Requirement already satisfied: tifffile>=2019.7.26 in /usr/local/lib/python3.10/dist-packages (from scikit-image>=0.16.1->albumentations) (2023.4.12)\n",
            "Requirement already satisfied: PyWavelets>=1.1.1 in /usr/local/lib/python3.10/dist-packages (from scikit-image>=0.16.1->albumentations) (1.4.1)\n",
            "Requirement already satisfied: packaging>=20.0 in /usr/local/lib/python3.10/dist-packages (from scikit-image>=0.16.1->albumentations) (23.1)\n",
            "Requirement already satisfied: joblib>=1.1.1 in /usr/local/lib/python3.10/dist-packages (from scikit-learn>=0.19.1->qudida>=0.0.4->albumentations) (1.2.0)\n",
            "Requirement already satisfied: threadpoolctl>=2.0.0 in /usr/local/lib/python3.10/dist-packages (from scikit-learn>=0.19.1->qudida>=0.0.4->albumentations) (3.1.0)\n"
          ]
        }
      ]
    },
    {
      "cell_type": "code",
      "source": [
        "\n",
        "\n",
        "import albumentations as A\n",
        "import numpy as np\n",
        "from albumentations.pytorch.transforms import ToTensorV2\n",
        "\n",
        "def apply_transforms(mean,std_dev):\n",
        "    train_transforms = A.Compose([\n",
        "        A.ElasticTransform(p=0.1, alpha=120, sigma=12),\n",
        "        A.Rotate(limit=8, p=0.99),\n",
        "        # A.PixelDropout(dropout_prob=0.1, drop_value=1.0, p=0.1),\n",
        "        A.GaussNoise(p=0.2),\n",
        "        # A.HorizontalFlip(p=0.2),\n",
        "        # A.ShiftScaleRotate(shift_limit=0.1, scale_limit=0.1, rotate_limit=10, p=0.2),\n",
        "        # A.CoarseDropout(\n",
        "        #     max_holes=1, max_height=16, max_width=16, min_holes=1, min_height=16, min_width=16, fill_value=tuple((x * 255.0 for x in mean)), p=0.2,\n",
        "        # ),\n",
        "        # A.ToGray(p=0.15),\n",
        "        A.Normalize(mean=mean, std=std_dev, always_apply=True),\n",
        "        ToTensorV2(),\n",
        "    ])\n",
        "\n",
        "    test_transforms = A.Compose([\n",
        "        A.Normalize(mean=mean, std=std_dev, always_apply=True),\n",
        "        ToTensorV2(),\n",
        "    ])\n",
        "\n",
        "    return lambda img: train_transforms(image=np.array(img))[\"image\"], lambda img: test_transforms(image=np.array(img))[\"image\"]\n"
      ],
      "metadata": {
        "id": "9l4uuK0KS-G-"
      },
      "execution_count": 3,
      "outputs": []
    },
    {
      "cell_type": "code",
      "metadata": {
        "id": "h_Cx9q2QFgM7"
      },
      "source": [
        "class Net(nn.Module):\n",
        "    def __init__(self):\n",
        "        super(Net, self).__init__()\n",
        "\n",
        "        dropout_value = 0.1\n",
        "        # Attempt S7 2---------------Further reduce capacity and see impact, remove capacity from early layers\n",
        "        # Conv Block 1\n",
        "        self.convblock1 = nn.Sequential(\n",
        "            nn.Conv2d(1, 8, 5, stride= 1, padding=1, bias = False), #input -28 OUtput-26 RF 5\n",
        "            nn.ReLU(),\n",
        "            nn.BatchNorm2d(8),\n",
        "            nn.Dropout(dropout_value),\n",
        "            nn.Conv2d(8, 16, 3, stride= 1, padding=1, bias = False), #input -26 OUtput-26 RF 7, Jump_in -1, Jump_out -1\n",
        "            nn.ReLU(),\n",
        "            nn.BatchNorm2d(16),\n",
        "            nn.Dropout(dropout_value)\n",
        "        )\n",
        "\n",
        "        # Transition Block 1\n",
        "        # STRIDED CONVOLUTION LAYER\n",
        "        self.transitionblock1 = nn.Sequential(\n",
        "            nn.Conv2d(16,8,3,stride=2,padding=1, bias = False), # In- 26, Out- 13, RF-9 , Jump_in -1, Jump_out -2\n",
        "            nn.ReLU(),\n",
        "            nn.BatchNorm2d(8),\n",
        "            nn.Dropout(dropout_value)\n",
        "        )\n",
        "\n",
        "        # Conv Block 2\n",
        "        self.convblock2 = nn.Sequential(\n",
        "            nn.Conv2d(8, 8, 3, stride= 1, padding=1, bias = False), #input -13  OUtput-13  RF 13, Jump_in -2, Jump_out -2\n",
        "            nn.ReLU(),\n",
        "            nn.BatchNorm2d(8),\n",
        "            nn.Dropout(dropout_value),\n",
        "            nn.Conv2d(8, 16, 3, stride= 1, padding=1, bias = False), #input -13  OUtput-13  RF 17, Jump_in -2, Jump_out -2\n",
        "            nn.ReLU(),\n",
        "            nn.BatchNorm2d(16),\n",
        "            nn.Dropout(dropout_value)\n",
        "        )\n",
        "\n",
        "        # Transition Block 2\n",
        "        # STRIDED CONVOLUTION LAYER\n",
        "        self.transitionblock2 = nn.Sequential(\n",
        "            nn.Conv2d(16,16,3,stride=2,padding=1, bias = False), # In- 13, Out-7, RF- 21 , Jump_in - 2, Jump_out - 4\n",
        "            nn.ReLU(),\n",
        "            nn.BatchNorm2d(16),\n",
        "            nn.Dropout(dropout_value)\n",
        "        )\n",
        "\n",
        "        # Conv Block 3\n",
        "        self.convblock3 = nn.Sequential(\n",
        "            nn.Conv2d(16, 10, 3, stride= 1, bias = False), #input -7  OUtput-5  RF - 29, Jump_in -4, Jump_out -4\n",
        "        )\n",
        "        self.gap = nn.AvgPool2d(5) # input - 10x5x5 Output -10x1x1\n",
        "\n",
        "\n",
        "        # # Attempt S7 1---------------Reduce the channel number throughout : Reduce capacity of model by reducing the number of channels\n",
        "        # # Conv Block 1\n",
        "        # self.convblock1 = nn.Sequential(\n",
        "        #     nn.Conv2d(1, 16, 5, stride= 1, padding=1), #input -28 OUtput-26 RF 5\n",
        "        #     nn.ReLU(),\n",
        "        #     nn.BatchNorm2d(16),\n",
        "        #     nn.Dropout(dropout_value),\n",
        "        #     nn.Conv2d(16, 16, 3, stride= 1, padding=1), #input -26 OUtput-26 RF 7, Jump_in -1, Jump_out -1\n",
        "        #     nn.ReLU(),\n",
        "        #     nn.BatchNorm2d(16),\n",
        "        #     nn.Dropout(dropout_value)\n",
        "        # )\n",
        "\n",
        "        # # Transition Block 1\n",
        "        # # STRIDED CONVOLUTION LAYER\n",
        "        # self.transitionblock1 = nn.Sequential(\n",
        "        #     nn.Conv2d(16,16,3,stride=2,padding=1), # In- 26, Out- 13, RF-9 , Jump_in -1, Jump_out -2\n",
        "        #     nn.ReLU(),\n",
        "        #     nn.BatchNorm2d(16),\n",
        "        #     nn.Dropout(dropout_value)\n",
        "        # )\n",
        "\n",
        "        # # Conv Block 2\n",
        "        # self.convblock2 = nn.Sequential(\n",
        "        #     nn.Conv2d(16, 16, 3, stride= 1, padding=1), #input -13  OUtput-13  RF 13, Jump_in -2, Jump_out -2\n",
        "        #     nn.ReLU(),\n",
        "        #     nn.BatchNorm2d(16),\n",
        "        #     nn.Dropout(dropout_value),\n",
        "        #     nn.Conv2d(16, 16, 3, stride= 1, padding=1), #input -13  OUtput-13  RF 17, Jump_in -2, Jump_out -2\n",
        "        #     nn.ReLU(),\n",
        "        #     nn.BatchNorm2d(16),\n",
        "        #     nn.Dropout(dropout_value)\n",
        "        # )\n",
        "\n",
        "        # # Transition Block 2\n",
        "        # # STRIDED CONVOLUTION LAYER\n",
        "        # self.transitionblock2 = nn.Sequential(\n",
        "        #     nn.Conv2d(16,16,3,stride=2,padding=1), # In- 13, Out-7, RF- 21 , Jump_in - 2, Jump_out - 4\n",
        "        #     nn.ReLU(),\n",
        "        #     nn.BatchNorm2d(16),\n",
        "        #     nn.Dropout(dropout_value)\n",
        "        # )\n",
        "\n",
        "        # # Conv Block 3\n",
        "        # self.convblock3 = nn.Sequential(\n",
        "        #     nn.Conv2d(16, 10, 3, stride= 1), #input -7  OUtput-5  RF - 29, Jump_in -4, Jump_out -4\n",
        "        # )\n",
        "        # self.gap = nn.AvgPool2d(5) # input - 10x5x5 Output -10x1x1\n",
        "        # # Attempt 2 ---------------\n",
        "        # # Conv Block 1\n",
        "        # self.convblock1 = nn.Sequential(\n",
        "        #     nn.Conv2d(1, 32, 5, stride= 1, padding=1), #input -28 OUtput-26 RF 5\n",
        "        #     nn.ReLU(),\n",
        "        #     nn.BatchNorm2d(32),\n",
        "        #     nn.Dropout(dropout_value),\n",
        "        #     nn.Conv2d(32, 16, 3, stride= 1, padding=1), #input -26 OUtput-26 RF 7, Jump_in -1, Jump_out -1\n",
        "        #     nn.ReLU(),\n",
        "        #     nn.BatchNorm2d(16),\n",
        "        #     nn.Dropout(dropout_value)\n",
        "        # )\n",
        "\n",
        "        # # Transition Block 1\n",
        "        # # STRIDED CONVOLUTION LAYER\n",
        "        # self.transitionblock1 = nn.Sequential(\n",
        "        #     nn.Conv2d(16,16,3,stride=2,padding=1), # In- 26, Out- 13, RF-9 , Jump_in -1, Jump_out -2\n",
        "        #     nn.ReLU(),\n",
        "        #     nn.BatchNorm2d(16),\n",
        "        #     nn.Dropout(dropout_value)\n",
        "        # )\n",
        "\n",
        "        # # Conv Block 2\n",
        "        # self.convblock2 = nn.Sequential(\n",
        "        #     nn.Conv2d(16, 24, 3, stride= 1, padding=1), #input -13  OUtput-13  RF 13, Jump_in -2, Jump_out -2\n",
        "        #     nn.ReLU(),\n",
        "        #     nn.BatchNorm2d(24),\n",
        "        #     nn.Dropout(dropout_value),\n",
        "        #     nn.Conv2d(24, 16, 3, stride= 1, padding=1), #input -13  OUtput-13  RF 17, Jump_in -2, Jump_out -2\n",
        "        #     nn.ReLU(),\n",
        "        #     nn.BatchNorm2d(16),\n",
        "        #     nn.Dropout(dropout_value)\n",
        "        # )\n",
        "\n",
        "        # # Transition Block 2\n",
        "        # # STRIDED CONVOLUTION LAYER\n",
        "        # self.transitionblock2 = nn.Sequential(\n",
        "        #     nn.Conv2d(16,16,3,stride=2,padding=1), # In- 13, Out-7, RF- 21 , Jump_in - 2, Jump_out - 4\n",
        "        #     nn.ReLU(),\n",
        "        #     nn.BatchNorm2d(16),\n",
        "        #     nn.Dropout(dropout_value)\n",
        "        # )\n",
        "\n",
        "        # # Conv Block 3\n",
        "        # self.convblock3 = nn.Sequential(\n",
        "        #     nn.Conv2d(16, 10, 3, stride= 1), #input -7  OUtput-5  RF - 29, Jump_in -4, Jump_out -4\n",
        "        # )\n",
        "        # self.gap = nn.AvgPool2d(5) # input - 10x5x5 Output -10x1x1\n",
        "\n",
        "\n",
        "        # Attempt 1-----------------------------\n",
        "        # self.conv1 = nn.Conv2d(1, 32, 5, stride= 1, padding=1) #input -28 OUtput-26 RF 5\n",
        "        # self.bn1 = nn.BatchNorm2d(32)\n",
        "        # self.conv2 = nn.Conv2d(32, 16, 3, stride= 1, padding=1)#input -26 OUtput-26 RF 7\n",
        "        # self.bn2 = nn.BatchNorm2d(16)\n",
        "\n",
        "        # self.pool1 = nn.MaxPool2d(2, 2) #input -26 OUtput-13 RF 14\n",
        "        # self.dropout1= nn.Dropout(0.1)\n",
        "\n",
        "        # self.conv3 = nn.Conv2d(16, 32, 3, stride= 1, padding=1) #input -13 OUtput-13 RF 16\n",
        "        # self.bn3 = nn.BatchNorm2d(32)\n",
        "        # self.conv4 = nn.Conv2d( 32, 32, 3, stride= 1, padding=1)#input -13 OUtput-13 RF 18\n",
        "        # self.bn4 = nn.BatchNorm2d(32)\n",
        "\n",
        "        # self.pool2 = nn.MaxPool2d(2, 2) #input -13 OUtput-6 RF 36\n",
        "        # self.dropout2 = nn.Dropout(0.1)\n",
        "\n",
        "        # self.conv5 = nn.Conv2d(32, 10, 1, stride= 1) # use of 1x1 - input 6 output 6 RF 36\n",
        "        # self.gap = nn.AvgPool2d(6) # input - 10x5x5 Output -10x1x1\n",
        "\n",
        "\n",
        "        # Base attempt-----------------\n",
        "        # self.conv1 = nn.Conv2d(1, 32, 3, padding=1) #input - 28 Output - 28  RF - 3, Jin -1 , Jout -1\n",
        "        # self.conv2 = nn.Conv2d(32, 64, 3, padding=1) #input - 28 Output - 28  RF - 5, Jin -1 , Jout -1\n",
        "        # self.pool1 = nn.MaxPool2d(2, 2) #input - 28 Output - 14, RF - 6, Jin -1 , Jout -2\n",
        "        # self.conv3 = nn.Conv2d(64, 128, 3, padding=1) #input - 14 Output - 14, RF - 10, Jin - 2 , Jout -2\n",
        "        # self.conv4 = nn.Conv2d(128, 256, 3, padding=1)  #input - 14 Output - 14, RF - 14, Jin - 2 , Jout -2\n",
        "        # self.pool2 = nn.MaxPool2d(2, 2) #input - 14 Output - 7, RF - 16, Jin - 2 , Jout - 4\n",
        "        # self.conv5 = nn.Conv2d(256, 512, 3) #input - 7 Output - 5, RF - 24, Jin - 4 , Jout - 4\n",
        "        # self.conv6 = nn.Conv2d(512, 1024, 3) #input - 5 Output - 3, RF - 32, Jin - 4 , Jout - 4\n",
        "        # self.conv7 = nn.Conv2d(1024, 10, 3) #input - 3 Output - 2, RF - 40, Jin - 4 , Jout - 4\n",
        "\n",
        "\n",
        "\n",
        "\n",
        "    def forward(self, x):\n",
        "\n",
        "      # Attempt 2 ---------------\n",
        "      x = self.convblock1(x)\n",
        "      x = self.transitionblock1(x)\n",
        "      x = self.convblock2(x)\n",
        "      x = self.transitionblock2(x)\n",
        "      x = self.convblock3(x)\n",
        "      x = self.gap(x)\n",
        "      x = x.view(-1, 10)\n",
        "      return F.log_softmax(x, dim = -1)\n",
        "\n",
        "        # Attempt 1-------------------\n",
        "        # x = F.relu(self.bn1(self.conv1(x)))\n",
        "        # x = F.relu(self.bn2(self.conv2(x)))\n",
        "        # x = self.dropout1(self.pool1(x))\n",
        "\n",
        "        # x = F.relu(self.bn3(self.conv3(x)))\n",
        "        # # print(\"after. bn 3\", x.shape)\n",
        "        # x = F.relu(self.bn4(self.conv4(x)))\n",
        "        # # print(\"after. bn 4\", x.shape)\n",
        "        # x = self.dropout2(self.pool2(x))\n",
        "        # # print(x.shape)\n",
        "\n",
        "        # x = self.conv5(x)\n",
        "        # # print(x.shape)\n",
        "        # x = self.gap(x)\n",
        "        # x = x.view(-1, 10)\n",
        "        # return F.log_softmax(x)\n",
        "\n",
        "        # base attempt------------------\n",
        "        # x = self.pool1(F.relu(self.conv2(F.relu(self.conv1(x)))))\n",
        "        # x = self.pool2(F.relu(self.conv4(F.relu(self.conv3(x)))))\n",
        "        # x = F.relu(self.conv6(F.relu(self.conv5(x))))\n",
        "        # x = F.relu(self.conv7(x))\n",
        "        # x = x.view(-1, 10)\n",
        "        # return F.log_softmax(x)"
      ],
      "execution_count": 4,
      "outputs": []
    },
    {
      "cell_type": "code",
      "source": [
        "use_cuda = torch.cuda.is_available()\n",
        "device = torch.device(\"cuda\" if use_cuda else \"cpu\")\n",
        "model = Net().to(device)\n",
        "model"
      ],
      "metadata": {
        "colab": {
          "base_uri": "https://localhost:8080/"
        },
        "id": "4GF7X6-9r8dF",
        "outputId": "2d67a087-9ef0-428b-94f6-f766229aaf45"
      },
      "execution_count": 5,
      "outputs": [
        {
          "output_type": "execute_result",
          "data": {
            "text/plain": [
              "Net(\n",
              "  (convblock1): Sequential(\n",
              "    (0): Conv2d(1, 8, kernel_size=(5, 5), stride=(1, 1), padding=(1, 1), bias=False)\n",
              "    (1): ReLU()\n",
              "    (2): BatchNorm2d(8, eps=1e-05, momentum=0.1, affine=True, track_running_stats=True)\n",
              "    (3): Dropout(p=0.1, inplace=False)\n",
              "    (4): Conv2d(8, 16, kernel_size=(3, 3), stride=(1, 1), padding=(1, 1), bias=False)\n",
              "    (5): ReLU()\n",
              "    (6): BatchNorm2d(16, eps=1e-05, momentum=0.1, affine=True, track_running_stats=True)\n",
              "    (7): Dropout(p=0.1, inplace=False)\n",
              "  )\n",
              "  (transitionblock1): Sequential(\n",
              "    (0): Conv2d(16, 8, kernel_size=(3, 3), stride=(2, 2), padding=(1, 1), bias=False)\n",
              "    (1): ReLU()\n",
              "    (2): BatchNorm2d(8, eps=1e-05, momentum=0.1, affine=True, track_running_stats=True)\n",
              "    (3): Dropout(p=0.1, inplace=False)\n",
              "  )\n",
              "  (convblock2): Sequential(\n",
              "    (0): Conv2d(8, 8, kernel_size=(3, 3), stride=(1, 1), padding=(1, 1), bias=False)\n",
              "    (1): ReLU()\n",
              "    (2): BatchNorm2d(8, eps=1e-05, momentum=0.1, affine=True, track_running_stats=True)\n",
              "    (3): Dropout(p=0.1, inplace=False)\n",
              "    (4): Conv2d(8, 16, kernel_size=(3, 3), stride=(1, 1), padding=(1, 1), bias=False)\n",
              "    (5): ReLU()\n",
              "    (6): BatchNorm2d(16, eps=1e-05, momentum=0.1, affine=True, track_running_stats=True)\n",
              "    (7): Dropout(p=0.1, inplace=False)\n",
              "  )\n",
              "  (transitionblock2): Sequential(\n",
              "    (0): Conv2d(16, 16, kernel_size=(3, 3), stride=(2, 2), padding=(1, 1), bias=False)\n",
              "    (1): ReLU()\n",
              "    (2): BatchNorm2d(16, eps=1e-05, momentum=0.1, affine=True, track_running_stats=True)\n",
              "    (3): Dropout(p=0.1, inplace=False)\n",
              "  )\n",
              "  (convblock3): Sequential(\n",
              "    (0): Conv2d(16, 10, kernel_size=(3, 3), stride=(1, 1), bias=False)\n",
              "  )\n",
              "  (gap): AvgPool2d(kernel_size=5, stride=5, padding=0)\n",
              ")"
            ]
          },
          "metadata": {},
          "execution_count": 5
        }
      ]
    },
    {
      "cell_type": "code",
      "metadata": {
        "id": "DqTWLaM5GHgH"
      },
      "source": [
        "\n",
        "\n",
        "torch.manual_seed(1)\n",
        "batch_size = 128\n",
        "\n",
        "mean, std_dev = (0.1307,), (0.3081,)\n",
        "train_transforms, test_transforms = apply_transforms(mean,std_dev)\n",
        "\n",
        "kwargs = {'num_workers': 1, 'pin_memory': True} if use_cuda else {}\n",
        "\n",
        "\n",
        "\n",
        "train_loader = torch.utils.data.DataLoader(\n",
        "    datasets.MNIST('../data', train=True, download=True,\n",
        "                    transform=train_transforms),\n",
        "    batch_size=batch_size, shuffle=True, **kwargs)\n",
        "test_loader = torch.utils.data.DataLoader(\n",
        "    datasets.MNIST('../data', train=False, transform=test_transforms),\n",
        "    batch_size=batch_size, shuffle=True, **kwargs)\n"
      ],
      "execution_count": 6,
      "outputs": []
    },
    {
      "cell_type": "code",
      "source": [
        "next(iter(test_loader))[0].shape"
      ],
      "metadata": {
        "colab": {
          "base_uri": "https://localhost:8080/"
        },
        "id": "nJK4MGh54gHq",
        "outputId": "dcb84234-0ddd-4b7a-b4a6-f8eb49fd267c"
      },
      "execution_count": 7,
      "outputs": [
        {
          "output_type": "execute_result",
          "data": {
            "text/plain": [
              "torch.Size([128, 1, 28, 28])"
            ]
          },
          "metadata": {},
          "execution_count": 7
        }
      ]
    },
    {
      "cell_type": "code",
      "metadata": {
        "id": "8fDefDhaFlwH"
      },
      "source": [
        "from tqdm import tqdm\n",
        "\n",
        "def train(model, device, train_loader, optimizer, epoch):\n",
        "  model.train()\n",
        "  pbar = tqdm(train_loader)\n",
        "  correct = 0\n",
        "  processed = 0\n",
        "  for batch_idx, (data, target) in enumerate(pbar):\n",
        "    # get samples\n",
        "    data, target = data.to(device), target.to(device)\n",
        "\n",
        "    # Init\n",
        "    optimizer.zero_grad()\n",
        "    # In PyTorch, we need to set the gradients to zero before starting to do backpropragation because PyTorch accumulates the gradients on subsequent backward passes.\n",
        "    # Because of this, when you start your training loop, ideally you should zero out the gradients so that you do the parameter update correctly.\n",
        "\n",
        "    # Predict\n",
        "    y_pred = model(data)\n",
        "\n",
        "    # Calculate loss\n",
        "    loss = F.nll_loss(y_pred, target)\n",
        "    train_losses.append(loss)\n",
        "\n",
        "    # Backpropagation\n",
        "    loss.backward()\n",
        "    optimizer.step()\n",
        "\n",
        "    # Update pbar-tqdm\n",
        "\n",
        "    pred = y_pred.argmax(dim=1, keepdim=True)  # get the index of the max log-probability\n",
        "    correct += pred.eq(target.view_as(pred)).sum().item()\n",
        "    processed += len(data)\n",
        "\n",
        "    pbar.set_description(desc= f'Loss={loss.item()} Batch_id={batch_idx} Accuracy={100*correct/processed:0.2f}')\n",
        "    train_acc.append(100*correct/processed)\n",
        "\n",
        "def test(model, device, test_loader):\n",
        "    model.eval()\n",
        "    test_loss = 0\n",
        "    correct = 0\n",
        "    with torch.no_grad():\n",
        "        for data, target in test_loader:\n",
        "            data, target = data.to(device), target.to(device)\n",
        "            output = model(data)\n",
        "            test_loss += F.nll_loss(output, target, reduction='sum').item()  # sum up batch loss\n",
        "            pred = output.argmax(dim=1, keepdim=True)  # get the index of the max log-probability\n",
        "            correct += pred.eq(target.view_as(pred)).sum().item()\n",
        "\n",
        "    test_loss /= len(test_loader.dataset)\n",
        "    test_losses.append(test_loss)\n",
        "\n",
        "    print('\\nTest set: Average loss: {:.4f}, Accuracy: {}/{} ({:.2f}%)\\n'.format(\n",
        "        test_loss, correct, len(test_loader.dataset),\n",
        "        100. * correct / len(test_loader.dataset)))\n",
        "\n",
        "    test_acc.append(100. * correct / len(test_loader.dataset))\n",
        "    return (correct / len(test_loader.dataset))"
      ],
      "execution_count": 8,
      "outputs": []
    },
    {
      "cell_type": "code",
      "source": [
        "!pip install torchsummary\n",
        "from torchsummary import summary\n",
        "use_cuda = torch.cuda.is_available()\n",
        "device = torch.device(\"cuda\" if use_cuda else \"cpu\")\n",
        "model = Net().to(device)\n",
        "summary(model, input_size=(1, 28, 28))"
      ],
      "metadata": {
        "colab": {
          "base_uri": "https://localhost:8080/"
        },
        "id": "cvY4pS50dQp6",
        "outputId": "70edef08-41d6-409f-e0b7-3adab62e26eb"
      },
      "execution_count": 9,
      "outputs": [
        {
          "output_type": "stream",
          "name": "stdout",
          "text": [
            "Looking in indexes: https://pypi.org/simple, https://us-python.pkg.dev/colab-wheels/public/simple/\n",
            "Requirement already satisfied: torchsummary in /usr/local/lib/python3.10/dist-packages (1.5.1)\n",
            "----------------------------------------------------------------\n",
            "        Layer (type)               Output Shape         Param #\n",
            "================================================================\n",
            "            Conv2d-1            [-1, 8, 26, 26]             200\n",
            "              ReLU-2            [-1, 8, 26, 26]               0\n",
            "       BatchNorm2d-3            [-1, 8, 26, 26]              16\n",
            "           Dropout-4            [-1, 8, 26, 26]               0\n",
            "            Conv2d-5           [-1, 16, 26, 26]           1,152\n",
            "              ReLU-6           [-1, 16, 26, 26]               0\n",
            "       BatchNorm2d-7           [-1, 16, 26, 26]              32\n",
            "           Dropout-8           [-1, 16, 26, 26]               0\n",
            "            Conv2d-9            [-1, 8, 13, 13]           1,152\n",
            "             ReLU-10            [-1, 8, 13, 13]               0\n",
            "      BatchNorm2d-11            [-1, 8, 13, 13]              16\n",
            "          Dropout-12            [-1, 8, 13, 13]               0\n",
            "           Conv2d-13            [-1, 8, 13, 13]             576\n",
            "             ReLU-14            [-1, 8, 13, 13]               0\n",
            "      BatchNorm2d-15            [-1, 8, 13, 13]              16\n",
            "          Dropout-16            [-1, 8, 13, 13]               0\n",
            "           Conv2d-17           [-1, 16, 13, 13]           1,152\n",
            "             ReLU-18           [-1, 16, 13, 13]               0\n",
            "      BatchNorm2d-19           [-1, 16, 13, 13]              32\n",
            "          Dropout-20           [-1, 16, 13, 13]               0\n",
            "           Conv2d-21             [-1, 16, 7, 7]           2,304\n",
            "             ReLU-22             [-1, 16, 7, 7]               0\n",
            "      BatchNorm2d-23             [-1, 16, 7, 7]              32\n",
            "          Dropout-24             [-1, 16, 7, 7]               0\n",
            "           Conv2d-25             [-1, 10, 5, 5]           1,440\n",
            "        AvgPool2d-26             [-1, 10, 1, 1]               0\n",
            "================================================================\n",
            "Total params: 8,120\n",
            "Trainable params: 8,120\n",
            "Non-trainable params: 0\n",
            "----------------------------------------------------------------\n",
            "Input size (MB): 0.00\n",
            "Forward/backward pass size (MB): 0.69\n",
            "Params size (MB): 0.03\n",
            "Estimated Total Size (MB): 0.72\n",
            "----------------------------------------------------------------\n"
          ]
        }
      ]
    },
    {
      "cell_type": "code",
      "metadata": {
        "id": "MMWbLWO6FuHb",
        "colab": {
          "base_uri": "https://localhost:8080/"
        },
        "outputId": "2b4a551d-ec2e-4ca3-d9d7-8e4371c1e042"
      },
      "source": [
        "\n",
        "train_losses = []\n",
        "test_losses = []\n",
        "train_acc = []\n",
        "test_acc = []\n",
        "\n",
        "use_cuda = torch.cuda.is_available()\n",
        "device = torch.device(\"cuda\" if use_cuda else \"cpu\")\n",
        "model = Net().to(device)\n",
        "optimizer = optim.SGD(model.parameters(), lr=0.1, momentum=0.9)\n",
        "scheduler = optim.lr_scheduler.ReduceLROnPlateau(optimizer,\n",
        "                                                 mode = 'max',\n",
        "                                                 factor = 0.2,\n",
        "                                                 patience = 1,\n",
        "                                                 threshold = 0.005,\n",
        "                                                 threshold_mode = 'abs',\n",
        "                                                 verbose = True)\n",
        "EPOCHS = 15\n",
        "for epoch in range(1, EPOCHS+1):\n",
        "  print(\"EPOCH: \", epoch)\n",
        "  train(model, device, train_loader, optimizer, epoch)\n",
        "  test_accuracy_epoch = test(model, device, test_loader)\n",
        "  scheduler.step(test_accuracy_epoch)\n",
        "  current_lr = optimizer.param_groups[0]['lr']\n",
        "  print(f'test_accuracy_epoch = {test_accuracy_epoch}, current learning rate = {current_lr}' )"
      ],
      "execution_count": 13,
      "outputs": [
        {
          "output_type": "stream",
          "name": "stdout",
          "text": [
            "EPOCH:  1\n"
          ]
        },
        {
          "output_type": "stream",
          "name": "stderr",
          "text": [
            "Loss=0.36273857951164246 Batch_id=468 Accuracy=82.11: 100%|██████████| 469/469 [00:38<00:00, 12.14it/s]\n"
          ]
        },
        {
          "output_type": "stream",
          "name": "stdout",
          "text": [
            "\n",
            "Test set: Average loss: 0.0899, Accuracy: 9694/10000 (96.94%)\n",
            "\n",
            "test_accuracy_epoch = 0.9694, current learning rate = 0.1\n",
            "EPOCH:  2\n"
          ]
        },
        {
          "output_type": "stream",
          "name": "stderr",
          "text": [
            "Loss=0.3331053555011749 Batch_id=468 Accuracy=87.88: 100%|██████████| 469/469 [00:34<00:00, 13.52it/s]\n"
          ]
        },
        {
          "output_type": "stream",
          "name": "stdout",
          "text": [
            "\n",
            "Test set: Average loss: 0.0780, Accuracy: 9753/10000 (97.53%)\n",
            "\n",
            "test_accuracy_epoch = 0.9753, current learning rate = 0.1\n",
            "EPOCH:  3\n"
          ]
        },
        {
          "output_type": "stream",
          "name": "stderr",
          "text": [
            "Loss=0.33105167746543884 Batch_id=468 Accuracy=88.46: 100%|██████████| 469/469 [00:35<00:00, 13.38it/s]\n"
          ]
        },
        {
          "output_type": "stream",
          "name": "stdout",
          "text": [
            "\n",
            "Test set: Average loss: 0.0552, Accuracy: 9821/10000 (98.21%)\n",
            "\n",
            "test_accuracy_epoch = 0.9821, current learning rate = 0.1\n",
            "EPOCH:  4\n"
          ]
        },
        {
          "output_type": "stream",
          "name": "stderr",
          "text": [
            "Loss=0.26790541410446167 Batch_id=468 Accuracy=88.93: 100%|██████████| 469/469 [00:34<00:00, 13.52it/s]\n"
          ]
        },
        {
          "output_type": "stream",
          "name": "stdout",
          "text": [
            "\n",
            "Test set: Average loss: 0.0463, Accuracy: 9851/10000 (98.51%)\n",
            "\n",
            "test_accuracy_epoch = 0.9851, current learning rate = 0.1\n",
            "EPOCH:  5\n"
          ]
        },
        {
          "output_type": "stream",
          "name": "stderr",
          "text": [
            "Loss=0.33378925919532776 Batch_id=468 Accuracy=89.15: 100%|██████████| 469/469 [00:34<00:00, 13.45it/s]\n"
          ]
        },
        {
          "output_type": "stream",
          "name": "stdout",
          "text": [
            "\n",
            "Test set: Average loss: 0.0375, Accuracy: 9869/10000 (98.69%)\n",
            "\n",
            "Epoch 00005: reducing learning rate of group 0 to 2.0000e-02.\n",
            "test_accuracy_epoch = 0.9869, current learning rate = 0.020000000000000004\n",
            "EPOCH:  6\n"
          ]
        },
        {
          "output_type": "stream",
          "name": "stderr",
          "text": [
            "Loss=0.1837727427482605 Batch_id=468 Accuracy=89.78: 100%|██████████| 469/469 [00:35<00:00, 13.23it/s]\n"
          ]
        },
        {
          "output_type": "stream",
          "name": "stdout",
          "text": [
            "\n",
            "Test set: Average loss: 0.0277, Accuracy: 9908/10000 (99.08%)\n",
            "\n",
            "test_accuracy_epoch = 0.9908, current learning rate = 0.020000000000000004\n",
            "EPOCH:  7\n"
          ]
        },
        {
          "output_type": "stream",
          "name": "stderr",
          "text": [
            "Loss=0.42365702986717224 Batch_id=468 Accuracy=89.79: 100%|██████████| 469/469 [00:36<00:00, 12.86it/s]\n"
          ]
        },
        {
          "output_type": "stream",
          "name": "stdout",
          "text": [
            "\n",
            "Test set: Average loss: 0.0247, Accuracy: 9919/10000 (99.19%)\n",
            "\n",
            "test_accuracy_epoch = 0.9919, current learning rate = 0.020000000000000004\n",
            "EPOCH:  8\n"
          ]
        },
        {
          "output_type": "stream",
          "name": "stderr",
          "text": [
            "Loss=0.15364612638950348 Batch_id=468 Accuracy=90.03: 100%|██████████| 469/469 [00:34<00:00, 13.46it/s]\n"
          ]
        },
        {
          "output_type": "stream",
          "name": "stdout",
          "text": [
            "\n",
            "Test set: Average loss: 0.0250, Accuracy: 9918/10000 (99.18%)\n",
            "\n",
            "Epoch 00008: reducing learning rate of group 0 to 4.0000e-03.\n",
            "test_accuracy_epoch = 0.9918, current learning rate = 0.004000000000000001\n",
            "EPOCH:  9\n"
          ]
        },
        {
          "output_type": "stream",
          "name": "stderr",
          "text": [
            "Loss=0.24232561886310577 Batch_id=468 Accuracy=90.18: 100%|██████████| 469/469 [00:34<00:00, 13.44it/s]\n"
          ]
        },
        {
          "output_type": "stream",
          "name": "stdout",
          "text": [
            "\n",
            "Test set: Average loss: 0.0231, Accuracy: 9913/10000 (99.13%)\n",
            "\n",
            "test_accuracy_epoch = 0.9913, current learning rate = 0.004000000000000001\n",
            "EPOCH:  10\n"
          ]
        },
        {
          "output_type": "stream",
          "name": "stderr",
          "text": [
            "Loss=0.3703641891479492 Batch_id=468 Accuracy=90.06: 100%|██████████| 469/469 [00:35<00:00, 13.30it/s]\n"
          ]
        },
        {
          "output_type": "stream",
          "name": "stdout",
          "text": [
            "\n",
            "Test set: Average loss: 0.0242, Accuracy: 9918/10000 (99.18%)\n",
            "\n",
            "Epoch 00010: reducing learning rate of group 0 to 8.0000e-04.\n",
            "test_accuracy_epoch = 0.9918, current learning rate = 0.0008000000000000003\n",
            "EPOCH:  11\n"
          ]
        },
        {
          "output_type": "stream",
          "name": "stderr",
          "text": [
            "Loss=0.22709111869335175 Batch_id=468 Accuracy=89.94: 100%|██████████| 469/469 [00:35<00:00, 13.33it/s]\n"
          ]
        },
        {
          "output_type": "stream",
          "name": "stdout",
          "text": [
            "\n",
            "Test set: Average loss: 0.0230, Accuracy: 9917/10000 (99.17%)\n",
            "\n",
            "test_accuracy_epoch = 0.9917, current learning rate = 0.0008000000000000003\n",
            "EPOCH:  12\n"
          ]
        },
        {
          "output_type": "stream",
          "name": "stderr",
          "text": [
            "Loss=0.2920962870121002 Batch_id=468 Accuracy=90.12: 100%|██████████| 469/469 [00:35<00:00, 13.16it/s]\n"
          ]
        },
        {
          "output_type": "stream",
          "name": "stdout",
          "text": [
            "\n",
            "Test set: Average loss: 0.0231, Accuracy: 9922/10000 (99.22%)\n",
            "\n",
            "Epoch 00012: reducing learning rate of group 0 to 1.6000e-04.\n",
            "test_accuracy_epoch = 0.9922, current learning rate = 0.00016000000000000007\n",
            "EPOCH:  13\n"
          ]
        },
        {
          "output_type": "stream",
          "name": "stderr",
          "text": [
            "Loss=0.23366539180278778 Batch_id=468 Accuracy=90.09: 100%|██████████| 469/469 [00:36<00:00, 13.02it/s]\n"
          ]
        },
        {
          "output_type": "stream",
          "name": "stdout",
          "text": [
            "\n",
            "Test set: Average loss: 0.0230, Accuracy: 9921/10000 (99.21%)\n",
            "\n",
            "test_accuracy_epoch = 0.9921, current learning rate = 0.00016000000000000007\n",
            "EPOCH:  14\n"
          ]
        },
        {
          "output_type": "stream",
          "name": "stderr",
          "text": [
            "Loss=0.2610045075416565 Batch_id=468 Accuracy=89.92: 100%|██████████| 469/469 [00:35<00:00, 13.16it/s]\n"
          ]
        },
        {
          "output_type": "stream",
          "name": "stdout",
          "text": [
            "\n",
            "Test set: Average loss: 0.0236, Accuracy: 9919/10000 (99.19%)\n",
            "\n",
            "Epoch 00014: reducing learning rate of group 0 to 3.2000e-05.\n",
            "test_accuracy_epoch = 0.9919, current learning rate = 3.200000000000001e-05\n",
            "EPOCH:  15\n"
          ]
        },
        {
          "output_type": "stream",
          "name": "stderr",
          "text": [
            "Loss=0.27751871943473816 Batch_id=468 Accuracy=90.11: 100%|██████████| 469/469 [00:35<00:00, 13.30it/s]\n"
          ]
        },
        {
          "output_type": "stream",
          "name": "stdout",
          "text": [
            "\n",
            "Test set: Average loss: 0.0230, Accuracy: 9923/10000 (99.23%)\n",
            "\n",
            "test_accuracy_epoch = 0.9923, current learning rate = 3.200000000000001e-05\n"
          ]
        }
      ]
    },
    {
      "cell_type": "code",
      "source": [],
      "metadata": {
        "id": "EQxGHd0c131e"
      },
      "execution_count": null,
      "outputs": []
    }
  ]
}